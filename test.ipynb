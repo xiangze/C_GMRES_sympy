{
 "cells": [
  {
   "cell_type": "code",
   "execution_count": 3,
   "id": "9db0d2a5",
   "metadata": {},
   "outputs": [],
   "source": [
    "import math\n",
    "import numpy as np\n",
    "import time\n",
    "import matplotlib.pyplot as plt\n",
    "import sympy as sp\n",
    "import C_GMRES_sympy as C\n",
    "# sympy関数のnumpyへの変換\n",
    "def numpyfy(arg,f):\n",
    "    return sp.lambdify(arg, f, \"numpy\")\n"
   ]
  },
  {
   "cell_type": "markdown",
   "id": "89c45702",
   "metadata": {},
   "source": [
    "# 変数とそのベクトル化"
   ]
  },
  {
   "cell_type": "code",
   "execution_count": 52,
   "id": "ed4c2f33",
   "metadata": {},
   "outputs": [],
   "source": [
    "#モデル変数\n",
    "x, y,z= sp.symbols('x y z')\n",
    "xt,yt,zt=sp.symbols('xt yt zt')\n",
    "ux, uy= sp.symbols('ux uy')\n",
    "lmx,lmy,lmz=sp.symbols('lmx lmy lmz')\n",
    "x_ob,y_ob,z_ob=sp.symbols('x_ob,y_ob,z_ob')\n",
    "\n",
    "#vector化\n",
    "u=sp.Matrix([ux,uy])\n",
    "xs=sp.Matrix([x,y,z])\n",
    "obs=sp.Matrix([x_ob,y_ob,z_ob])\n",
    "xbar=sp.Matrix([x-x_ob,y-y_ob,z-z_ob])\n",
    "t=sp.Matrix([xt,yt,zt])\n",
    "lm=sp.Matrix([lmx,lmy,lmz])"
   ]
  },
  {
   "cell_type": "code",
   "execution_count": null,
   "id": "94b5b80d",
   "metadata": {},
   "outputs": [],
   "source": [
    "#定数\n",
    "umass=1\n",
    "Q = sp.Matrix([[100, 0, 0],\n",
    "                [0, 100, 0],\n",
    "                [0, 0, 0]])\n",
    "R = sp.Matrix([[umass, 0],\n",
    "                [0, umass]])\n",
    "\n",
    "S = sp.Matrix([[100, 0, 0],\n",
    "                [0, 100, 0],\n",
    "                [0, 0, 0]])\n",
    "barcoef=0.15 \n",
    "\n",
    "umax=sp.Matrix([15,15])\n",
    "umin=-umax\n",
    "\n",
    "carR = 0.05\n",
    "carT = 0.2\n",
    "r = carR/2\n",
    "rT = carR/carT\n"
   ]
  },
  {
   "cell_type": "markdown",
   "id": "8977e4f6",
   "metadata": {},
   "source": [
    "# コントローラー側の運動方程式とその導関数"
   ]
  },
  {
   "cell_type": "code",
   "execution_count": 60,
   "id": "7068f933",
   "metadata": {},
   "outputs": [
    {
     "data": {
      "text/latex": [
       "$\\displaystyle \\left[\\begin{matrix}0.025 \\left(ux + uy\\right) \\cos{\\left(z \\right)}\\\\0.025 \\left(ux + uy\\right) \\sin{\\left(z \\right)}\\\\0.25 ux - 0.25 uy\\end{matrix}\\right]$"
      ],
      "text/plain": [
       "Matrix([\n",
       "[0.025*(ux + uy)*cos(z)],\n",
       "[0.025*(ux + uy)*sin(z)],\n",
       "[     0.25*ux - 0.25*uy]])"
      ]
     },
     "execution_count": 60,
     "metadata": {},
     "output_type": "execute_result"
    }
   ],
   "source": [
    "f=sp.Matrix([r*sp.cos(z)*(ux+uy),r*sp.sin(z) *(ux+uy),rT*(ux-uy)])\n",
    "f"
   ]
  },
  {
   "cell_type": "code",
   "execution_count": 54,
   "id": "0ac19168",
   "metadata": {},
   "outputs": [
    {
     "data": {
      "text/latex": [
       "$\\displaystyle \\left[\\begin{matrix}0.025 \\cos{\\left(z \\right)} & 0.025 \\cos{\\left(z \\right)}\\\\0.025 \\sin{\\left(z \\right)} & 0.025 \\sin{\\left(z \\right)}\\\\0.25 & -0.25\\end{matrix}\\right]$"
      ],
      "text/plain": [
       "Matrix([\n",
       "[0.025*cos(z), 0.025*cos(z)],\n",
       "[0.025*sin(z), 0.025*sin(z)],\n",
       "[        0.25,        -0.25]])"
      ]
     },
     "execution_count": 54,
     "metadata": {},
     "output_type": "execute_result"
    }
   ],
   "source": [
    "fu=sp.Matrix([f.diff(ux).T,f.diff(uy).T]).T\n",
    "fu"
   ]
  },
  {
   "cell_type": "markdown",
   "id": "b669ffc8",
   "metadata": {},
   "source": [
    "## Numpy化された関数"
   ]
  },
  {
   "cell_type": "code",
   "execution_count": 57,
   "id": "f3dfec3b",
   "metadata": {},
   "outputs": [
    {
     "data": {
      "text/plain": [
       "'lambda _0,_1: (lambda x,y,z,ux,uy: (ImmutableDenseMatrix([[0.025*(ux + uy)*math.cos(z)], [0.025*(ux + uy)*math.sin(z)], [0.25*ux - 0.25*uy]])))(_0[0],_0[1],_0[2],_1[0],_1[1])'"
      ]
     },
     "execution_count": 57,
     "metadata": {},
     "output_type": "execute_result"
    }
   ],
   "source": [
    "from sympy.utilities.lambdify import lambdastr\n",
    "lambdastr((xs,u),f)"
   ]
  },
  {
   "cell_type": "markdown",
   "id": "d6085bce",
   "metadata": {},
   "source": [
    "# 評価関数 (Hamiltonian)"
   ]
  },
  {
   "cell_type": "code",
   "execution_count": 58,
   "id": "43736d01",
   "metadata": {},
   "outputs": [
    {
     "data": {
      "text/latex": [
       "$\\displaystyle \\left[\\begin{matrix}0.025 lmx \\left(ux + uy\\right) \\cos{\\left(z \\right)} + 0.025 lmy \\left(ux + uy\\right) \\sin{\\left(z \\right)} + lmz \\left(0.25 ux - 0.25 uy\\right) + \\frac{ux^{2}}{2} + \\frac{uy^{2}}{2} + 50 xt^{2} + 50 yt^{2} + \\frac{\\left(x - x_{ob}\\right) \\left(100 x - 100 x_{ob}\\right)}{2} + \\frac{\\left(y - y_{ob}\\right) \\left(100 y - 100 y_{ob}\\right)}{2} + 0.15 \\log{\\left(15 - ux \\right)} + 0.15 \\log{\\left(15 - uy \\right)} + 0.15 \\log{\\left(ux + 15 \\right)} + 0.15 \\log{\\left(uy + 15 \\right)}\\end{matrix}\\right]$"
      ],
      "text/plain": [
       "Matrix([[0.025*lmx*(ux + uy)*cos(z) + 0.025*lmy*(ux + uy)*sin(z) + lmz*(0.25*ux - 0.25*uy) + ux**2/2 + uy**2/2 + 50*xt**2 + 50*yt**2 + (x - x_ob)*(100*x - 100*x_ob)/2 + (y - y_ob)*(100*y - 100*y_ob)/2 + 0.15*log(15 - ux) + 0.15*log(15 - uy) + 0.15*log(ux + 15) + 0.15*log(uy + 15)]])"
      ]
     },
     "execution_count": 58,
     "metadata": {},
     "output_type": "execute_result"
    }
   ],
   "source": [
    "J=(u.T*R*u+ xbar.T*Q*xbar+t.T*S*t)/2\n",
    "lu=(umax - u).applyfunc(sp.log)+(u-umin).applyfunc(sp.log)\n",
    "barrier=sp.Matrix([lu[0]+lu[1]]) #障壁関数\n",
    "H= J + f.T*lm  +barcoef*barrier\n",
    "H"
   ]
  },
  {
   "cell_type": "code",
   "execution_count": 61,
   "id": "f2a1f675",
   "metadata": {},
   "outputs": [],
   "source": [
    "Hu=sp.Matrix([H.diff(ux),H.diff(uy)])\n",
    "Hx=sp.Matrix([H.diff(x),H.diff(y),H.diff(z)])\n",
    "Ht=sp.Matrix([H.diff(xt),H.diff(yt),H.diff(zt)])"
   ]
  },
  {
   "cell_type": "code",
   "execution_count": 62,
   "id": "dd9e4426",
   "metadata": {},
   "outputs": [
    {
     "data": {
      "text/latex": [
       "$\\displaystyle \\left[\\begin{matrix}0.025 lmx \\cos{\\left(z \\right)} + 0.025 lmy \\sin{\\left(z \\right)} + 0.25 lmz + ux + \\frac{0.15}{ux + 15} - \\frac{0.15}{15 - ux}\\\\0.025 lmx \\cos{\\left(z \\right)} + 0.025 lmy \\sin{\\left(z \\right)} - 0.25 lmz + uy + \\frac{0.15}{uy + 15} - \\frac{0.15}{15 - uy}\\end{matrix}\\right]$"
      ],
      "text/plain": [
       "Matrix([\n",
       "[0.025*lmx*cos(z) + 0.025*lmy*sin(z) + 0.25*lmz + ux + 0.15/(ux + 15) - 0.15/(15 - ux)],\n",
       "[0.025*lmx*cos(z) + 0.025*lmy*sin(z) - 0.25*lmz + uy + 0.15/(uy + 15) - 0.15/(15 - uy)]])"
      ]
     },
     "execution_count": 62,
     "metadata": {},
     "output_type": "execute_result"
    }
   ],
   "source": [
    "Hu"
   ]
  },
  {
   "cell_type": "code",
   "execution_count": 63,
   "id": "7a855fd0",
   "metadata": {},
   "outputs": [
    {
     "data": {
      "text/latex": [
       "$\\displaystyle \\left[\\begin{matrix}100 x - 100 x_{ob}\\\\100 y - 100 y_{ob}\\\\- 0.025 lmx \\left(ux + uy\\right) \\sin{\\left(z \\right)} + 0.025 lmy \\left(ux + uy\\right) \\cos{\\left(z \\right)}\\end{matrix}\\right]$"
      ],
      "text/plain": [
       "Matrix([\n",
       "[                                        100*x - 100*x_ob],\n",
       "[                                        100*y - 100*y_ob],\n",
       "[-0.025*lmx*(ux + uy)*sin(z) + 0.025*lmy*(ux + uy)*cos(z)]])"
      ]
     },
     "execution_count": 63,
     "metadata": {},
     "output_type": "execute_result"
    }
   ],
   "source": [
    "Hx"
   ]
  },
  {
   "cell_type": "code",
   "execution_count": 64,
   "id": "9c1bd257",
   "metadata": {},
   "outputs": [
    {
     "data": {
      "text/latex": [
       "$\\displaystyle \\left[\\begin{matrix}100 xt\\\\100 yt\\\\0\\end{matrix}\\right]$"
      ],
      "text/plain": [
       "Matrix([\n",
       "[100*xt],\n",
       "[100*yt],\n",
       "[     0]])"
      ]
     },
     "execution_count": 64,
     "metadata": {},
     "output_type": "execute_result"
    }
   ],
   "source": [
    "Ht"
   ]
  },
  {
   "cell_type": "markdown",
   "id": "0a6ca36a",
   "metadata": {},
   "source": [
    "# Test"
   ]
  },
  {
   "cell_type": "code",
   "execution_count": 28,
   "id": "d5749006",
   "metadata": {},
   "outputs": [],
   "source": [
    "def test(maxTime,nonholo_car,ctrl,x_ob):\n",
    "    Time = 0\n",
    "    start = time.time()\n",
    "    xs=[]\n",
    "    us=[]\n",
    "\n",
    "    while Time <= maxTime:\n",
    "        xs.append(ctrl.x)\n",
    "        us.append(ctrl.u)\n",
    "        x = ctrl.x + nonholo_car.func(ctrl.u, ctrl.x)*ctrl.Ts\n",
    "        ctrl.Time = Time + ctrl.Ts\n",
    "        ctrl.CGMRES_control()\n",
    "        Time += ctrl.Ts\n",
    "        ctrl.x = x\n",
    "    end = time.time()\n",
    "    print(\"計算時間：{}[s]\".format(end - start))\n",
    "    xs=np.array(xs).reshape(len(xs),3)\n",
    "    us=np.array(us).reshape(len(us),2)\n",
    "\n",
    "    for i,l in enumerate(['x', 'y', 'z']):\n",
    "        plt.plot(xs[:,i], label=l)\n",
    "    plt.legend()\n",
    "    plt.show()\n",
    "\n",
    "    for i,l in enumerate(['ux', 'uy', ]):\n",
    "        plt.plot(us[:,i], label=l)\n",
    "    plt.legend()\n",
    "    plt.show()\n",
    "        "
   ]
  },
  {
   "cell_type": "code",
   "execution_count": 29,
   "id": "be40b52b",
   "metadata": {},
   "outputs": [
    {
     "name": "stdout",
     "output_type": "stream",
     "text": [
      "計算時間：4.255019664764404[s]\n"
     ]
    },
    {
     "data": {
      "image/png": "[encoded data removed]",
      "text/plain": [
       "<Figure size 432x288 with 1 Axes>"
      ]
     },
     "metadata": {
      "needs_background": "light"
     },
     "output_type": "display_data"
    },
    {
     "data": {
      "image/png": "[encoded data removed]",
      "text/plain": [
       "<Figure size 432x288 with 1 Axes>"
      ]
     },
     "metadata": {
      "needs_background": "light"
     },
     "output_type": "display_data"
    }
   ],
   "source": [
    "x_ob = np.array([3, 2, 0]).T\n",
    "car = C.car(carR,carT)\n",
    "ctrl = C.controller(nonholo_car, x_ob,f,H)\n",
    "test(10,car,ctrl,x_ob)\n"
   ]
  },
  {
   "cell_type": "code",
   "execution_count": 33,
   "id": "60b280bb",
   "metadata": {},
   "outputs": [
    {
     "name": "stdout",
     "output_type": "stream",
     "text": [
      "計算時間：3.8549699783325195[s]\n"
     ]
    },
    {
     "data": {
      "image/png": "[encoded data removed]",
      "text/plain": [
       "<Figure size 432x288 with 1 Axes>"
      ]
     },
     "metadata": {
      "needs_background": "light"
     },
     "output_type": "display_data"
    },
    {
     "data": {
      "image/png": "[encoded data removed]",
      "text/plain": [
       "<Figure size 432x288 with 1 Axes>"
      ]
     },
     "metadata": {
      "needs_background": "light"
     },
     "output_type": "display_data"
    }
   ],
   "source": [
    "import C_GMRES as simple\n",
    "x_ob = np.array([3, 2, 0]).T\n",
    "car = simple.car()\n",
    "ctrl = simple.controller(nonholo_car, x_ob)\n",
    "test(10,car,ctrl,x_ob)"
   ]
  },
  {
   "cell_type": "markdown",
   "id": "2aac2c20",
   "metadata": {},
   "source": [
    "非sympy版と比べると計算時間がかかってしまっている"
   ]
  },
  {
   "cell_type": "code",
   "execution_count": null,
   "id": "01be3a00",
   "metadata": {},
   "outputs": [],
   "source": []
  }
 ],
 "metadata": {
  "kernelspec": {
   "display_name": "Python 3 (ipykernel)",
   "language": "python",
   "name": "python3"
  },
  "language_info": {
   "codemirror_mode": {
    "name": "ipython",
    "version": 3
   },
   "file_extension": ".py",
   "mimetype": "text/x-python",
   "name": "python",
   "nbconvert_exporter": "python",
   "pygments_lexer": "ipython3",
   "version": "3.8.10"
  }
 },
 "nbformat": 4,
 "nbformat_minor": 5
}
