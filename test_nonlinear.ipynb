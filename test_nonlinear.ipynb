{
 "cells": [
  {
   "cell_type": "code",
   "execution_count": 2,
   "id": "9db0d2a5",
   "metadata": {},
   "outputs": [],
   "source": [
    "import math\n",
    "import numpy as np\n",
    "import time\n",
    "import matplotlib.pyplot as plt\n",
    "import sympy as sp\n",
    "import C_GMRES_sympy as C\n",
    "# sympy関数のnumpyへの変換\n",
    "def numpyfy(arg,f):\n",
    "    return sp.lambdify(arg, f, \"numpy\")\n"
   ]
  },
  {
   "cell_type": "markdown",
   "id": "89c45702",
   "metadata": {},
   "source": [
    "# 変数とそのベクトル化"
   ]
  },
  {
   "cell_type": "code",
   "execution_count": 3,
   "id": "ed4c2f33",
   "metadata": {},
   "outputs": [],
   "source": [
    "#モデル変数\n",
    "x, y,z= sp.symbols('x y z')\n",
    "xt,yt,zt=sp.symbols('xt yt zt')\n",
    "ux, uy= sp.symbols('ux uy')\n",
    "lmx,lmy,lmz=sp.symbols('lmx lmy lmz')\n",
    "x_ob,y_ob,z_ob=sp.symbols('x_ob,y_ob,z_ob')\n",
    "\n",
    "#vector化\n",
    "u=sp.Matrix([ux,uy])\n",
    "xs=sp.Matrix([x,y,z])\n",
    "obs=sp.Matrix([x_ob,y_ob,z_ob])\n",
    "xbar=sp.Matrix([x-x_ob,y-y_ob,z-z_ob])\n",
    "t=sp.Matrix([xt,yt,zt])\n",
    "lm=sp.Matrix([lmx,lmy,lmz])"
   ]
  },
  {
   "cell_type": "code",
   "execution_count": 18,
   "id": "94b5b80d",
   "metadata": {},
   "outputs": [],
   "source": [
    "#定数\n",
    "barcoef=0.15 \n",
    "\n",
    "umax=sp.Matrix([0.5,0.5])"
   ]
  },
  {
   "cell_type": "markdown",
   "id": "8977e4f6",
   "metadata": {},
   "source": [
    "# モデル式"
   ]
  },
  {
   "cell_type": "markdown",
   "id": "b71558e3",
   "metadata": {},
   "source": [
    " 「非線形最適制御入門」の例"
   ]
  },
  {
   "cell_type": "code",
   "execution_count": 23,
   "id": "7068f933",
   "metadata": {},
   "outputs": [
    {
     "data": {
      "text/latex": [
       "$\\displaystyle \\left[\\begin{matrix}y\\\\ux - x + y \\left(- x^{2} - y^{2} + 1\\right)\\\\0\\end{matrix}\\right]$"
      ],
      "text/plain": [
       "Matrix([\n",
       "[                            y],\n",
       "[ux - x + y*(-x**2 - y**2 + 1)],\n",
       "[                            0]])"
      ]
     },
     "execution_count": 23,
     "metadata": {},
     "output_type": "execute_result"
    }
   ],
   "source": [
    "f=sp.Matrix([y,(1-x*x-y*y)*y-x+ux,0])\n",
    "f"
   ]
  },
  {
   "cell_type": "code",
   "execution_count": 34,
   "id": "3b205895",
   "metadata": {},
   "outputs": [],
   "source": [
    "class Model:\n",
    "    def __init__(self):\n",
    "        _func=numpyfy((xs,u),f)\n",
    "        self.func=lambda u,xs:_func(xs,u).flatten()    \n"
   ]
  },
  {
   "cell_type": "markdown",
   "id": "d6085bce",
   "metadata": {},
   "source": [
    "# 評価関数 (Hamiltonian)"
   ]
  },
  {
   "cell_type": "code",
   "execution_count": 46,
   "id": "73697868",
   "metadata": {},
   "outputs": [
    {
     "data": {
      "text/latex": [
       "$\\displaystyle \\left[\\begin{matrix}xt^{2} + yt^{2} + zt^{2}\\end{matrix}\\right]$"
      ],
      "text/plain": [
       "Matrix([[xt**2 + yt**2 + zt**2]])"
      ]
     },
     "execution_count": 46,
     "metadata": {},
     "output_type": "execute_result"
    }
   ],
   "source": [
    "t.T*t"
   ]
  },
  {
   "cell_type": "code",
   "execution_count": 50,
   "id": "43736d01",
   "metadata": {},
   "outputs": [
    {
     "data": {
      "text/latex": [
       "$\\displaystyle \\left[\\begin{matrix}lmx y + lmy \\left(ux - x + y \\left(- x^{2} - y^{2} + 1\\right)\\right) + 0.65 ux^{2} + 0.15 uy^{2} - 0.01 uy + \\frac{xt^{2}}{2} + \\frac{yt^{2}}{2} + \\frac{zt^{2}}{2} + \\frac{\\left(x - x_{ob}\\right)^{2}}{2} + \\frac{\\left(y - y_{ob}\\right)^{2}}{2} + \\frac{\\left(z - z_{ob}\\right)^{2}}{2} - 0.075\\end{matrix}\\right]$"
      ],
      "text/plain": [
       "Matrix([[lmx*y + lmy*(ux - x + y*(-x**2 - y**2 + 1)) + 0.65*ux**2 + 0.15*uy**2 - 0.01*uy + xt**2/2 + yt**2/2 + zt**2/2 + (x - x_ob)**2/2 + (y - y_ob)**2/2 + (z - z_ob)**2/2 - 0.075]])"
      ]
     },
     "execution_count": 50,
     "metadata": {},
     "output_type": "execute_result"
    }
   ],
   "source": [
    "#J=(t.T*t +u.T*u+ xbar.T*xbar)/2\n",
    "A=sp.Matrix([[1,0],[0,0]])\n",
    "J=(t.T*t +u.T*A*u+xbar.T*xbar)/2 -0.01*sp.Matrix([uy])\n",
    "\n",
    "barrier=u.T*u-umax.T*umax #障壁関数\n",
    "H= J + f.T*lm  +barcoef*barrier\n",
    "H"
   ]
  },
  {
   "cell_type": "code",
   "execution_count": 26,
   "id": "f2a1f675",
   "metadata": {},
   "outputs": [],
   "source": [
    "Hu=sp.Matrix([H.diff(ux),H.diff(uy)])\n",
    "Hx=sp.Matrix([H.diff(x),H.diff(y),H.diff(z)])\n",
    "Ht=sp.Matrix([H.diff(xt),H.diff(yt),H.diff(zt)])"
   ]
  },
  {
   "cell_type": "code",
   "execution_count": 27,
   "id": "dd9e4426",
   "metadata": {},
   "outputs": [
    {
     "data": {
      "text/latex": [
       "$\\displaystyle \\left[\\begin{matrix}lmy + 1.3 ux\\\\1.3 uy\\end{matrix}\\right]$"
      ],
      "text/plain": [
       "Matrix([\n",
       "[lmy + 1.3*ux],\n",
       "[      1.3*uy]])"
      ]
     },
     "execution_count": 27,
     "metadata": {},
     "output_type": "execute_result"
    }
   ],
   "source": [
    "Hu"
   ]
  },
  {
   "cell_type": "code",
   "execution_count": 28,
   "id": "7a855fd0",
   "metadata": {},
   "outputs": [
    {
     "data": {
      "text/latex": [
       "$\\displaystyle \\left[\\begin{matrix}lmy \\left(- 2 x y - 1\\right) + x - x_{ob}\\\\lmx + lmy \\left(- x^{2} - 3 y^{2} + 1\\right) + y - y_{ob}\\\\z - z_{ob}\\end{matrix}\\right]$"
      ],
      "text/plain": [
       "Matrix([\n",
       "[              lmy*(-2*x*y - 1) + x - x_ob],\n",
       "[lmx + lmy*(-x**2 - 3*y**2 + 1) + y - y_ob],\n",
       "[                                 z - z_ob]])"
      ]
     },
     "execution_count": 28,
     "metadata": {},
     "output_type": "execute_result"
    }
   ],
   "source": [
    "Hx"
   ]
  },
  {
   "cell_type": "code",
   "execution_count": 39,
   "id": "9c1bd257",
   "metadata": {},
   "outputs": [
    {
     "data": {
      "text/latex": [
       "$\\displaystyle \\left[\\begin{matrix}xt\\\\yt\\\\zt\\end{matrix}\\right]$"
      ],
      "text/plain": [
       "Matrix([\n",
       "[xt],\n",
       "[yt],\n",
       "[zt]])"
      ]
     },
     "execution_count": 39,
     "metadata": {},
     "output_type": "execute_result"
    }
   ],
   "source": [
    "Ht"
   ]
  },
  {
   "cell_type": "markdown",
   "id": "0a6ca36a",
   "metadata": {},
   "source": [
    "# Test"
   ]
  },
  {
   "cell_type": "code",
   "execution_count": 51,
   "id": "d5749006",
   "metadata": {},
   "outputs": [],
   "source": [
    "def test(maxTime,model,ctrl,x_ob):\n",
    "    Time = 0\n",
    "    start = time.time()\n",
    "    xs=[]\n",
    "    us=[]\n",
    "\n",
    "    while Time <= maxTime:\n",
    "        xs.append(ctrl.x)\n",
    "        us.append(ctrl.u)\n",
    "        x = ctrl.x + model.func(ctrl.u, ctrl.x)*ctrl.Ts\n",
    "        ctrl.Time = Time + ctrl.Ts\n",
    "        ctrl.CGMRES_control()\n",
    "        Time += ctrl.Ts\n",
    "        ctrl.x = x\n",
    "    end = time.time()\n",
    "    print(\"計算時間：{}[s]\".format(end - start))\n",
    "    xs=np.array(xs).reshape(len(xs),3)\n",
    "    us=np.array(us).reshape(len(us),2)\n",
    "\n",
    "    for i,l in enumerate(['x', 'y', 'z']):\n",
    "        plt.plot(xs[:,i], label=l)\n",
    "    plt.legend()\n",
    "    plt.show()\n",
    "\n",
    "    for i,l in enumerate(['ux', 'uy', ]):\n",
    "        plt.plot(us[:,i], label=l)\n",
    "    plt.legend()\n",
    "    plt.show()\n",
    "        "
   ]
  },
  {
   "cell_type": "code",
   "execution_count": 52,
   "id": "be40b52b",
   "metadata": {},
   "outputs": [
    {
     "name": "stdout",
     "output_type": "stream",
     "text": [
      "計算時間：3.0435540676116943[s]\n"
     ]
    },
    {
     "data": {
      "image/png": "[encoded data removed]",
      "text/plain": [
       "<Figure size 432x288 with 1 Axes>"
      ]
     },
     "metadata": {
      "needs_background": "light"
     },
     "output_type": "display_data"
    },
    {
     "data": {
      "image/png": "[encoded data removed]",
      "text/plain": [
       "<Figure size 432x288 with 1 Axes>"
      ]
     },
     "metadata": {
      "needs_background": "light"
     },
     "output_type": "display_data"
    }
   ],
   "source": [
    "x_ob = np.array([3, 2, 0]).T\n",
    "model = Model()\n",
    "ctrl = C.controller(model, x_ob,f,H)\n",
    "test(10,model,ctrl,x_ob)\n"
   ]
  },
  {
   "cell_type": "code",
   "execution_count": null,
   "id": "01be3a00",
   "metadata": {},
   "outputs": [],
   "source": []
  }
 ],
 "metadata": {
  "kernelspec": {
   "display_name": "Python 3 (ipykernel)",
   "language": "python",
   "name": "python3"
  },
  "language_info": {
   "codemirror_mode": {
    "name": "ipython",
    "version": 3
   },
   "file_extension": ".py",
   "mimetype": "text/x-python",
   "name": "python",
   "nbconvert_exporter": "python",
   "pygments_lexer": "ipython3",
   "version": "3.8.10"
  }
 },
 "nbformat": 4,
 "nbformat_minor": 5
}
